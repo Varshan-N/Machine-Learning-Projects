{
 "cells": [
  {
   "cell_type": "markdown",
   "id": "f6fef408-dc73-468f-8341-1116786ace48",
   "metadata": {},
   "source": [
    "# Assignment 4 - Predicting and understanding viewer engagement with educational videos\n"
   ]
  },
  {
   "cell_type": "markdown",
   "id": "d8101757-5b84-430c-ad8a-b1575601c137",
   "metadata": {},
   "source": [
    "With the accelerating popularity of online educational experiences, the role of online lectures and other educational video continues to increase in scope and importance. Open access educational repositories such as videolectures.net, as well as Massive Open Online Courses (MOOCs) on platforms like Coursera, have made access to many thousands of lectures and tutorials an accessible option for millions of people around the world. Yet this impressive volume of content has also led to a challenge in how to find, filter, and match these videos with learners. This assignment gives you an example of how machine learning can be used to address part of that challenge."
   ]
  },
  {
   "cell_type": "markdown",
   "id": "b3e706e5-9f58-4f8b-bd99-746e1d9cfbf5",
   "metadata": {},
   "source": [
    "# About the prediction problem"
   ]
  },
  {
   "cell_type": "markdown",
   "id": "a76a4fc7-43c5-4431-a354-83c261cdc575",
   "metadata": {},
   "source": [
    "One critical property of a video is engagement: how interesting or \"engaging\" it is for viewers, so that they decide to keep watching. Engagement is critical for learning, whether the instruction is coming from a video or any other source. There are many ways to define engagement with video, but one common approach is to estimate it by measuring how much of the video a user watches. If the video is not interesting and does not engage a viewer, they will typically abandon it quickly, e.g. only watch 5 or 10% of the total.\n",
    "\n",
    "A first step towards providing the best-matching educational content is to understand which features of educational material make it engaging for learners in general. This is where predictive modeling can be applied, via supervised machine learning. For this assignment, your task is to predict how engaging an educational video is likely to be for viewers, based on a set of features extracted from the video's transcript, audio track, hosting site, and other sources.\n",
    "\n",
    "We chose this prediction problem for several reasons:\n",
    "\n",
    "It combines a variety of features derived from a rich set of resources connected to the original data;\n",
    "The manageable dataset size means the dataset and supervised models for it can be easily explored on a wide variety of computing platforms;\n",
    "Predicting popularity or engagement for a media item, especially combined with understanding which features contribute to its success with viewers, is a fun problem but also a practical representative application of machine learning in a number of business and educational sectors."
   ]
  },
  {
   "cell_type": "markdown",
   "id": "6d1f90fa-e290-47f3-9c3c-cfb5823ef767",
   "metadata": {},
   "source": [
    "# About the dataset"
   ]
  },
  {
   "cell_type": "markdown",
   "id": "3784135f-618c-445d-9802-03ecd3f2d1f0",
   "metadata": {},
   "source": [
    "We extracted training and test datasets of educational video features from the VLE Dataset put together by researcher Sahan Bulathwela at University College London.\n",
    "\n",
    "We provide you with two data files for use in training and validating your models: train.csv and test.csv. Each row in these two files corresponds to a single educational video, and includes information about diverse properties of the video content as described further below. The target variable is engagement which was defined as True if the median percentage of the video watched across all viewers was at least 30%, and False otherwise.\n",
    "\n",
    "Note: Any extra variables that may be included in the training set are simply for your interest if you want an additional source of data for visualization, or to enable unsupervised and semi-supervised approaches. However, they are not included in the test set and thus cannot be used for prediction.\n",
    "\n",
    "For this final assignment, you will bring together what you've learned across all four weeks of this course, by exploring different prediction models for this new dataset. In addition, we encourage you to apply what you've learned about model selection to do hyperparameter tuning using training/validation splits of the training data, to optimize the model and further increase its performance. In addition to a basic evaluation of model accuracy, we've also provided a utility function to visualize which features are most and least contributing to the overall model performance."
   ]
  },
  {
   "cell_type": "markdown",
   "id": "31b45869-6eb5-4d5d-b5eb-8ef09a54c1af",
   "metadata": {},
   "source": [
    "#### Data fields"
   ]
  },
  {
   "cell_type": "markdown",
   "id": "9b7b1f86-824f-4372-985b-e3e291f0dea0",
   "metadata": {},
   "source": [
    "title_word_count - the number of words in the title of the video.\n",
    "\n",
    "document_entropy - a score indicating how varied the topics are covered in the video, based on the transcript. Videos with smaller entropy scores will tend to be more cohesive and more focused on a single topic.\n",
    "\n",
    "freshness - The number of days elapsed between 01/01/1970 and the lecture published date. Videos that are more recent will have higher freshness values.\n",
    "\n",
    "easiness - A text difficulty measure applied to the transcript. A lower score indicates more complex language used by the presenter.\n",
    "\n",
    "fraction_stopword_presence - A stopword is a very common word like 'the' or 'and'. This feature computes the fraction of all words that are stopwords in the video lecture transcript.\n",
    "\n",
    "speaker_speed - The average speaking rate in words per minute of the presenter in the video.\n",
    "\n",
    "silent_period_rate - The fraction of time in the lecture video that is silence (no speaking).\n"
   ]
  },
  {
   "cell_type": "markdown",
   "id": "c6fe796b-c826-45cf-a74c-baf609bac4ae",
   "metadata": {},
   "source": [
    "#### train.csv only:"
   ]
  },
  {
   "cell_type": "markdown",
   "id": "da439d18-d04e-4953-b388-2df56e697255",
   "metadata": {},
   "source": [
    "engagement - Target label for training. True if learners watched a substantial portion of the video (see description), or False otherwise."
   ]
  },
  {
   "cell_type": "markdown",
   "id": "8604c142-4289-48be-9cc3-59b59c973a3b",
   "metadata": {},
   "source": [
    "# Evaluation"
   ]
  },
  {
   "cell_type": "markdown",
   "id": "96e3c94a-097b-4425-8ed1-b2d757c77d87",
   "metadata": {},
   "source": [
    "Your predictions will be given as the probability that the corresponding video will be engaging to learners.\n",
    "\n",
    "The evaluation metric for this assignment is the Area Under the ROC Curve (AUC).\n",
    "\n",
    "Your grade will be based on the AUC score computed for your classifier. A model with an AUC (area under ROC curve) of at least 0.8 passes this assignment, and over 0.85 will receive full points. ___\n",
    "\n",
    "For this assignment, create a function that trains a model to predict significant learner engagement with a video using asset/train.csv. Using this model, return a Pandas Series object of length 2309 with the data being the probability that each corresponding video from readonly/test.csv will be engaging (according to a model learned from the 'engagement' label in the training set), and the video index being in the id field."
   ]
  },
  {
   "cell_type": "markdown",
   "id": "494bb5d2-f5e7-4628-b81b-48b3e8eb434a",
   "metadata": {},
   "source": [
    "# Import libraries"
   ]
  },
  {
   "cell_type": "code",
   "execution_count": 11,
   "id": "5396c650-9d3a-4a07-b505-deddef990a1c",
   "metadata": {},
   "outputs": [],
   "source": [
    "import pandas as pd\n",
    "import numpy as np\n",
    "from sklearn.model_selection import train_test_split\n",
    "from sklearn.ensemble import RandomForestClassifier\n",
    "from sklearn.metrics import roc_auc_score"
   ]
  },
  {
   "cell_type": "code",
   "execution_count": 20,
   "id": "a81c6712-7956-4569-929e-e84e967a3abb",
   "metadata": {},
   "outputs": [],
   "source": [
    "def engagement_model():\n",
    "\n",
    "    # Load datasets\n",
    "    train_path = \"train.csv\"\n",
    "    test_path = \"test.csv\"\n",
    "    train_df = pd.read_csv(train_path)\n",
    "    test_df = pd.read_csv(test_path)\n",
    "\n",
    "    # Prepare training data\n",
    "    X = train_df.drop(columns=[\"id\", \"engagement\"])  # Features\n",
    "    y = train_df[\"engagement\"].astype(int)  # Encode target as 0/1\n",
    "\n",
    "    # Split into train and validation sets\n",
    "    X_train, X_val, y_train, y_val = train_test_split(X, y, test_size=0.2, random_state=42, stratify=y)\n",
    "\n",
    "    # Train RandomForestClassifier\n",
    "    rf_model = RandomForestClassifier(n_estimators=100, random_state=42)\n",
    "    rf_model.fit(X_train, y_train)\n",
    "\n",
    "    # Predict on validation set and calculate AUC\n",
    "    y_val_probs = rf_model.predict_proba(X_val)[:, 1]  # Get probability of class 1 (engaging)\n",
    "    auc_score = roc_auc_score(y_val, y_val_probs)\n",
    "    print(f\"Validation AUC Score: {auc_score:.4f}\")\n",
    "\n",
    "    # Prepare test data\n",
    "    X_test = test_df.drop(columns=[\"id\"])\n",
    "\n",
    "    # Predict engagement probabilities\n",
    "    test_probs = rf_model.predict_proba(X_test)[:, 1]\n",
    "\n",
    "    # Format results as a Pandas Series with 'id' as the index\n",
    "    submission = pd.Series(test_probs, index=test_df[\"id\"], name=\"engagement\")\n",
    "\n",
    "    # Save predictions to CSV\n",
    "    submission.to_csv(\"submission.csv\", header=True)\n",
    "\n",
    "    print(\"Predictions saved as submission.csv\")\n",
    "   \n",
    "    print(submission)"
   ]
  },
  {
   "cell_type": "code",
   "execution_count": 24,
   "id": "3289039a-5a5f-4707-8767-b25231dbfbab",
   "metadata": {},
   "outputs": [
    {
     "name": "stdout",
     "output_type": "stream",
     "text": [
      "Validation AUC Score: 0.8980\n",
      "Predictions saved as submission.csv\n",
      "id\n",
      "9240     0.01\n",
      "9241     0.04\n",
      "9242     0.04\n",
      "9243     0.90\n",
      "9244     0.04\n",
      "         ... \n",
      "11544    0.01\n",
      "11545    0.00\n",
      "11546    0.01\n",
      "11547    0.94\n",
      "11548    0.03\n",
      "Name: engagement, Length: 2309, dtype: float64\n"
     ]
    }
   ],
   "source": [
    "stu_ans = engagement_model()\n",
    "#assert isinstance(stu_ans, pd.Series), \"Your function should return a pd.Series. \"\n",
    "#assert len(stu_ans) == 2309, \"Your series is of incorrect length: expected 2309 \"\n",
    "#assert np.issubdtype(stu_ans.index.dtype, np.integer), \"Your answer pd.Series should have an index of integer type representing video id.\"\n"
   ]
  }
 ],
 "metadata": {
  "kernelspec": {
   "display_name": "Python 3 (ipykernel)",
   "language": "python",
   "name": "python3"
  },
  "language_info": {
   "codemirror_mode": {
    "name": "ipython",
    "version": 3
   },
   "file_extension": ".py",
   "mimetype": "text/x-python",
   "name": "python",
   "nbconvert_exporter": "python",
   "pygments_lexer": "ipython3",
   "version": "3.12.0"
  }
 },
 "nbformat": 4,
 "nbformat_minor": 5
}
